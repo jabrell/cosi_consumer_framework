{
 "cells": [
  {
   "cell_type": "markdown",
   "id": "43f4780f",
   "metadata": {},
   "source": [
    "# Basic Usage"
   ]
  },
  {
   "cell_type": "markdown",
   "id": "bdae7b59",
   "metadata": {},
   "source": [
    "Illustrate the basic use of agents"
   ]
  },
  {
   "cell_type": "markdown",
   "id": "aa0ae929",
   "metadata": {},
   "source": [
    "## Packages and options"
   ]
  },
  {
   "cell_type": "code",
   "execution_count": 1,
   "id": "8026efac",
   "metadata": {},
   "outputs": [],
   "source": [
    "# Add parent folder to Python path\n",
    "import sys\n",
    "sys.path.insert(0, \"..\")\n",
    "\n",
    "from typing import Any\n",
    "\n",
    "import numpy as np\n",
    "from pydantic import Field\n",
    "\n",
    "from cosi_consumer_framework import (\n",
    "    Environment, \n",
    "    Agent, \n",
    "    AgentPerception, \n",
    "    ChoiceSet\n",
    ")\n"
   ]
  },
  {
   "cell_type": "markdown",
   "id": "87f93a05",
   "metadata": {},
   "source": [
    "## Building a simple model"
   ]
  },
  {
   "cell_type": "markdown",
   "id": "cf7220ee",
   "metadata": {},
   "source": [
    "### Environment"
   ]
  },
  {
   "cell_type": "markdown",
   "id": "0698335e",
   "metadata": {},
   "source": [
    "The environment is the central source of truth. It holds all objective information\n",
    "as well all agents and assets.\n",
    "\n",
    "In our simple example the environment is only characterized by a temperature\n",
    "that is randomly set in each year. To achieve this, we manipulate the step \n",
    "method by setting the temperature before asking all agents to act which is done \n",
    "by the parent's step method.\n",
    "\n",
    "Note that the Environment (like Agents, Assets, and all the other classes) is a \n",
    "Pydantic Model and we, therefore, can describe the  fields and also check incoming \n",
    "data."
   ]
  },
  {
   "cell_type": "code",
   "execution_count": 2,
   "id": "8b31acba",
   "metadata": {},
   "outputs": [],
   "source": [
    "class TemperatureEnvironment(Environment):\n",
    "    temperature: float = Field(15.0, description=\"Current temperature in degrees Celsius\")\n",
    "\n",
    "    def step(self):\n",
    "        self.temperature = np.random.randint(0,40)\n",
    "        print(f\"{self.year}: Environment temperature changed to: {self.temperature}\")\n",
    "        super().step()"
   ]
  },
  {
   "cell_type": "markdown",
   "id": "33eb1c70",
   "metadata": {},
   "source": [
    "### Agents"
   ]
  },
  {
   "cell_type": "markdown",
   "id": "e991be17",
   "metadata": {},
   "source": [
    "Agents perceive information from the environment. The perceived information is \n",
    "then used to trigger a ChoiceSet based on the given information which is then\n",
    "used actually do a choice.\n",
    "\n",
    "In the following we first define the perception and the ChoiceSet. Afterwards we\n",
    "implement the Agent itself."
   ]
  },
  {
   "cell_type": "markdown",
   "id": "7d422e14",
   "metadata": {},
   "source": [
    "#### Perception"
   ]
  },
  {
   "cell_type": "markdown",
   "id": "0340f7a6",
   "metadata": {},
   "source": [
    "Perceiving information is a two part process. First, information is extracted from\n",
    "the environment. The result of this extraction implemented through the method\n",
    "*get_information_from_environment* is the undistorted information. This information\n",
    "is used to instantiate the perception.\n",
    "\n",
    "In the second step, this objective truth is distorted using the *distort_information* method.\n",
    "Both of these method must be implemented for the *AgentPerception* object. \n",
    "\n",
    "The *AgentPerception* class has already implemented a *perceive* method that \n",
    "uses the agent as well as environment to call the two perception methods."
   ]
  },
  {
   "cell_type": "code",
   "execution_count": 3,
   "id": "bd04360f",
   "metadata": {},
   "outputs": [],
   "source": [
    "class TemperaturePerception(AgentPerception):\n",
    "    temperature: float = Field(..., description=\"Perceived temperature in degrees Celsius\")\n",
    "    \n",
    "    @classmethod\n",
    "    def get_information_from_environment(\n",
    "            cls, agent: Any, environment: TemperatureEnvironment\n",
    "        ) -> dict:\n",
    "        \"\"\"Extract information from the environment.\n",
    "        \n",
    "        Args:\n",
    "            agent: The agent that is perceiving the information.\n",
    "            environment: The environment in which the agent is located.\n",
    "\n",
    "        Returns:\n",
    "            Dictionary with the relevant information\n",
    "        \"\"\"\n",
    "        return {\"temperature\": environment.temperature}\n",
    "    \n",
    "    def distort_information(self, agent: Any) -> None:\n",
    "        \"\"\"Distort the perceived information.\n",
    "        \n",
    "        Args:\n",
    "            agent: The agent that is perceiving the information.\n",
    "        \"\"\"\n",
    "        self.temperature += agent.temperature_bias\n"
   ]
  },
  {
   "cell_type": "markdown",
   "id": "01eb0c07",
   "metadata": {},
   "source": [
    "#### Choice Set"
   ]
  },
  {
   "cell_type": "markdown",
   "id": "a8156a9a",
   "metadata": {},
   "source": [
    "The choice sets is created using the *trigger* function that takes the agent\n",
    "and the perception as input. Within the trigger we extract all information needed\n",
    "to do the evaluation of each option. The *evaluate* method then evaluates each choice \n",
    "option. We therefore must implement both of these methods."
   ]
  },
  {
   "cell_type": "code",
   "execution_count": 4,
   "id": "f2a498d9",
   "metadata": {},
   "outputs": [
    {
     "data": {
      "text/plain": [
       "DrinkChoice(options=['hot chocolate', 'iced tea'], scores={}, temperature=20.0, agent=None)"
      ]
     },
     "execution_count": 4,
     "metadata": {},
     "output_type": "execute_result"
    }
   ],
   "source": [
    "class DrinkChoice(ChoiceSet):\n",
    "    options: list[str] = Field(..., description=\"Available drink options\")\n",
    "    scores: dict[str, float] = Field(\n",
    "        default_factory=dict, \n",
    "        description=\"Scores for each drink option\"\n",
    "    )\n",
    "    temperature: float = Field(..., description=\"Perceived temperature in degrees Celsius\")\n",
    "\n",
    "    agent: Any = Field(..., description=\"The agent making the choice\")\n",
    "\n",
    "    @classmethod\n",
    "    def trigger(cls, agent: Any, perception: TemperaturePerception) -> \"DrinkChoice\":\n",
    "        \"\"\"Trigger the choice set based on the agent's perception.\n",
    "        \n",
    "        Args:\n",
    "            agent: The agent making the choice.\n",
    "            perception: The agent's perception of the environment.\n",
    "\n",
    "        Returns:\n",
    "            An instance of the DrinkChoice class.\n",
    "        \"\"\"\n",
    "        # Note: In a real scenario, options could be dynamically generated based \n",
    "        # on perception and stored drinks in the environment.\n",
    "        options = [\"hot chocolate\", \"iced tea\"]\n",
    "        return cls( \n",
    "            options=options,\n",
    "            agent=agent,\n",
    "            temperature=perception.temperature\n",
    "        )\n",
    "    \n",
    "    def evaluate(self):\n",
    "        \"\"\"Create evaluation score for each drink option\"\"\"\n",
    "        self.scores = {\n",
    "            o: (\n",
    "                self.agent.drink_preference[o] \n",
    "                + self.agent.temperature_adjustment[o] * self.temperature\n",
    "            ) \n",
    "            for o in self.options\n",
    "        } \n",
    "\n",
    "DrinkChoice(options=[\"hot chocolate\", \"iced tea\"], agent=None, temperature=20)"
   ]
  },
  {
   "cell_type": "markdown",
   "id": "05c78a44",
   "metadata": {},
   "source": [
    "### Agent"
   ]
  },
  {
   "cell_type": "markdown",
   "id": "0529190d",
   "metadata": {},
   "source": [
    "Finally we can specify the agent with all of its attributes:"
   ]
  },
  {
   "cell_type": "code",
   "execution_count": 5,
   "id": "5d5a0c63",
   "metadata": {},
   "outputs": [],
   "source": [
    "class Person(Agent):\n",
    "    drink_preference: dict[str, float] = Field(\n",
    "        ...,\n",
    "        description=\"Score for each drink option at zero degree Celsius\"\n",
    "    )\n",
    "    temperature_adjustment: dict[str, float] = Field(\n",
    "        ..., \n",
    "        description=\"Adjustment factor for drink preference based on temperature\"\n",
    "    )\n",
    "    temperature_bias: float = Field(\n",
    "        0.0, description=\"Bias in temperature perception (e.g., due to clothing)\"\n",
    "    )\n",
    "\n",
    "    def perceive(self, environment: Environment) -> TemperaturePerception:\n",
    "        return TemperaturePerception.perceive(self, environment)\n",
    "    \n",
    "    def trigger_choice(self, perception: TemperaturePerception):\n",
    "        return DrinkChoice.trigger(agent=self, perception=perception)\n",
    "    \n",
    "    def choose(self, options: Any, perception: Any):\n",
    "        best_option = max(options.scores, key=options.scores.get)\n",
    "        print(\n",
    "            f\"{self.id}: It is {perception.temperature} of felt temperature!\"\n",
    "            f\"I drink: {best_option}\"\n",
    "        )"
   ]
  },
  {
   "cell_type": "markdown",
   "id": "32a431cd",
   "metadata": {},
   "source": [
    "## Simulation"
   ]
  },
  {
   "cell_type": "markdown",
   "id": "c7a3134f",
   "metadata": {},
   "source": [
    "### Model setup"
   ]
  },
  {
   "cell_type": "markdown",
   "id": "305c275b",
   "metadata": {},
   "source": [
    "We create the environment and register one agent:"
   ]
  },
  {
   "cell_type": "code",
   "execution_count": 6,
   "id": "7e85b79a",
   "metadata": {},
   "outputs": [],
   "source": [
    "my_env = TemperatureEnvironment()\n",
    "me = Person(\n",
    "    id=\"Alice\",\n",
    "    drink_preference={\"hot chocolate\": 20.0, \"iced tea\": 0},\n",
    "    temperature_adjustment={\"hot chocolate\": -1, \"iced tea\": 1},\n",
    "    temperature_bias=2.0\n",
    ")\n",
    "my_env.add(me)"
   ]
  },
  {
   "cell_type": "code",
   "execution_count": 7,
   "id": "777bc222",
   "metadata": {},
   "outputs": [
    {
     "name": "stdout",
     "output_type": "stream",
     "text": [
      "\n",
      "--- Simulation step 1 ---\n",
      "2020: Environment temperature changed to: 38\n",
      "Person.Alice: It is 40.0 of felt temperature!I drink: iced tea\n",
      "\n",
      "--- Simulation step 2 ---\n",
      "2021: Environment temperature changed to: 6\n",
      "Person.Alice: It is 8.0 of felt temperature!I drink: hot chocolate\n",
      "\n",
      "--- Simulation step 3 ---\n",
      "2022: Environment temperature changed to: 3\n",
      "Person.Alice: It is 5.0 of felt temperature!I drink: hot chocolate\n",
      "\n",
      "--- Simulation step 4 ---\n",
      "2023: Environment temperature changed to: 22\n",
      "Person.Alice: It is 24.0 of felt temperature!I drink: iced tea\n",
      "\n",
      "--- Simulation step 5 ---\n",
      "2024: Environment temperature changed to: 34\n",
      "Person.Alice: It is 36.0 of felt temperature!I drink: iced tea\n",
      "\n",
      "--- Simulation step 6 ---\n",
      "2025: Environment temperature changed to: 3\n",
      "Person.Alice: It is 5.0 of felt temperature!I drink: hot chocolate\n",
      "\n",
      "--- Simulation step 7 ---\n",
      "2026: Environment temperature changed to: 25\n",
      "Person.Alice: It is 27.0 of felt temperature!I drink: iced tea\n",
      "\n",
      "--- Simulation step 8 ---\n",
      "2027: Environment temperature changed to: 1\n",
      "Person.Alice: It is 3.0 of felt temperature!I drink: hot chocolate\n",
      "\n",
      "--- Simulation step 9 ---\n",
      "2028: Environment temperature changed to: 23\n",
      "Person.Alice: It is 25.0 of felt temperature!I drink: iced tea\n",
      "\n",
      "--- Simulation step 10 ---\n",
      "2029: Environment temperature changed to: 38\n",
      "Person.Alice: It is 40.0 of felt temperature!I drink: iced tea\n",
      "\n",
      "--- Simulation step 11 ---\n",
      "2030: Environment temperature changed to: 25\n",
      "Person.Alice: It is 27.0 of felt temperature!I drink: iced tea\n",
      "\n",
      "--- Simulation step 12 ---\n",
      "2031: Environment temperature changed to: 32\n",
      "Person.Alice: It is 34.0 of felt temperature!I drink: iced tea\n",
      "\n",
      "--- Simulation step 13 ---\n",
      "2032: Environment temperature changed to: 29\n",
      "Person.Alice: It is 31.0 of felt temperature!I drink: iced tea\n",
      "\n",
      "--- Simulation step 14 ---\n",
      "2033: Environment temperature changed to: 20\n",
      "Person.Alice: It is 22.0 of felt temperature!I drink: iced tea\n",
      "\n",
      "--- Simulation step 15 ---\n",
      "2034: Environment temperature changed to: 21\n",
      "Person.Alice: It is 23.0 of felt temperature!I drink: iced tea\n",
      "\n",
      "--- Simulation step 16 ---\n",
      "2035: Environment temperature changed to: 25\n",
      "Person.Alice: It is 27.0 of felt temperature!I drink: iced tea\n",
      "\n",
      "--- Simulation step 17 ---\n",
      "2036: Environment temperature changed to: 14\n",
      "Person.Alice: It is 16.0 of felt temperature!I drink: iced tea\n",
      "\n",
      "--- Simulation step 18 ---\n",
      "2037: Environment temperature changed to: 26\n",
      "Person.Alice: It is 28.0 of felt temperature!I drink: iced tea\n",
      "\n",
      "--- Simulation step 19 ---\n",
      "2038: Environment temperature changed to: 33\n",
      "Person.Alice: It is 35.0 of felt temperature!I drink: iced tea\n",
      "\n",
      "--- Simulation step 20 ---\n",
      "2039: Environment temperature changed to: 34\n",
      "Person.Alice: It is 36.0 of felt temperature!I drink: iced tea\n"
     ]
    }
   ],
   "source": [
    "for i in range(20):\n",
    "    print(f\"\\n--- Simulation step {i+1} ---\")\n",
    "    my_env.step()"
   ]
  },
  {
   "cell_type": "code",
   "execution_count": null,
   "id": "a9c15cfe",
   "metadata": {},
   "outputs": [],
   "source": []
  }
 ],
 "metadata": {
  "kernelspec": {
   "display_name": "cosi-consumer-framework",
   "language": "python",
   "name": "python3"
  },
  "language_info": {
   "codemirror_mode": {
    "name": "ipython",
    "version": 3
   },
   "file_extension": ".py",
   "mimetype": "text/x-python",
   "name": "python",
   "nbconvert_exporter": "python",
   "pygments_lexer": "ipython3",
   "version": "3.13.0"
  }
 },
 "nbformat": 4,
 "nbformat_minor": 5
}
